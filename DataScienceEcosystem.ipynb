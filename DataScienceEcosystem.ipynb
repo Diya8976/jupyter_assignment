{
 "cells": [
  {
   "cell_type": "markdown",
   "id": "e545c8a0-2988-4771-9ad1-fb4e7e5085bf",
   "metadata": {},
   "source": [
    "# H1 : Data science tools and ecosystem"
   ]
  },
  {
   "cell_type": "markdown",
   "id": "6cc35301-f538-464a-bbb8-b62df111db03",
   "metadata": {},
   "source": [
    " In this notebook, data science tools and ecosystem are summarized"
   ]
  },
  {
   "cell_type": "code",
   "execution_count": 10,
   "id": "7c329a9e-04e5-474b-9de4-09cd1089f70c",
   "metadata": {},
   "outputs": [
    {
     "name": "stdout",
     "output_type": "stream",
     "text": [
      "Some of the popular languages that data scientists use are:\n"
     ]
    }
   ],
   "source": [
    "print(\"Some of the popular languages that data scientists use are:\")"
   ]
  },
  {
   "cell_type": "code",
   "execution_count": 22,
   "id": "1c4630e7-4387-419e-93b3-df81887283c6",
   "metadata": {},
   "outputs": [
    {
     "name": "stdout",
     "output_type": "stream",
     "text": [
      "1. Python\n",
      "2. R\n",
      "3. VBA\n",
      "4. Julia\n"
     ]
    }
   ],
   "source": [
    "print(\"1. Python\")\n",
    "print(\"2. R\")\n",
    "print(\"3. VBA\")\n",
    "print(\"4. Julia\")"
   ]
  },
  {
   "cell_type": "code",
   "execution_count": 24,
   "id": "61b67f53-1c2e-444a-8ae1-261a700030dc",
   "metadata": {},
   "outputs": [
    {
     "name": "stdout",
     "output_type": "stream",
     "text": [
      "some of the commonly used libraries used by data scientists include:\n"
     ]
    }
   ],
   "source": [
    "print(\"some of the commonly used libraries used by data scientists include:\")"
   ]
  },
  {
   "cell_type": "code",
   "execution_count": 26,
   "id": "116fc4af-cce6-4f6f-a169-6309638b3be7",
   "metadata": {},
   "outputs": [
    {
     "name": "stdout",
     "output_type": "stream",
     "text": [
      "1. Pandas\n",
      "2. PyTorch\n",
      "3. NumPy\n",
      "4. Scikit-learn\n"
     ]
    }
   ],
   "source": [
    "print(\"1. Pandas\")\n",
    "print(\"2. PyTorch\")\n",
    "print(\"3. NumPy\")\n",
    "print(\"4. Scikit-learn\")"
   ]
  },
  {
   "cell_type": "code",
   "execution_count": 41,
   "id": "40ce7836-15f7-42f4-b588-9a13a508e123",
   "metadata": {},
   "outputs": [
    {
     "name": "stdout",
     "output_type": "stream",
     "text": [
      "\n",
      "| Data Science Tools | Open source tools |\n",
      "| -------------------| ------------------|\n",
      "| RStudios           |                    |\n",
      "| Scikit-learn       |                    |\n",
      "| Apache Spark       |                    |\n",
      "| TensorFlow         |                    |\n",
      "| Matplotlib         |                    |\n",
      "| Jupyter Notebook   |                    |\n"
     ]
    }
   ],
   "source": [
    "print(\"\"\"\n",
    "| Data Science Tools | Open source tools |\n",
    "| -------------------| ------------------|\n",
    "| RStudios           |                    |\n",
    "| Scikit-learn       |                    |\n",
    "| Apache Spark       |                    |\n",
    "| TensorFlow         |                    |\n",
    "| Matplotlib         |                    |\n",
    "| Jupyter Notebook   |                    |\"\"\")"
   ]
  },
  {
   "cell_type": "markdown",
   "id": "db448ae4-3f4e-4897-a94f-22c779b0811e",
   "metadata": {},
   "source": [
    "# H3: Below are a few examples of arithmetic expressions in python :"
   ]
  },
  {
   "cell_type": "code",
   "execution_count": 44,
   "id": "b81f4c5c-afb8-46e4-8cf6-44e7ac671a11",
   "metadata": {},
   "outputs": [
    {
     "name": "stdout",
     "output_type": "stream",
     "text": [
      "\n",
      "1. +(addition)\n",
      "2. -(subtraction)\n",
      "3. *(multiplication)\n",
      "4. /(division)\n",
      "5. %(modulo)\n",
      "6. //(floor division)\n",
      "7. **(exponentiation) \n"
     ]
    }
   ],
   "source": [
    "print(\"\"\"\n",
    "1. +(addition)\n",
    "2. -(subtraction)\n",
    "3. *(multiplication)\n",
    "4. /(division)\n",
    "5. %(modulo)\n",
    "6. //(floor division)\n",
    "7. **(exponentiation) \"\"\")"
   ]
  },
  {
   "cell_type": "code",
   "execution_count": 50,
   "id": "8b5ea653-0d9a-4e00-b0e4-91ac1fbcac87",
   "metadata": {},
   "outputs": [
    {
     "data": {
      "text/plain": [
       "17"
      ]
     },
     "execution_count": 50,
     "metadata": {},
     "output_type": "execute_result"
    }
   ],
   "source": [
    "(3*4)+5"
   ]
  },
  {
   "cell_type": "code",
   "execution_count": 48,
   "id": "4e8a0c54-26bb-4f02-8e93-43c0e1c77b36",
   "metadata": {},
   "outputs": [
    {
     "name": "stdout",
     "output_type": "stream",
     "text": [
      "This is a simple arithmetic expression to multiply then add integers.\n"
     ]
    }
   ],
   "source": [
    "print(\"This is a simple arithmetic expression to multiply then add integers.\")"
   ]
  },
  {
   "cell_type": "code",
   "execution_count": 64,
   "id": "758429ef-d55b-407d-8214-b2d902480472",
   "metadata": {},
   "outputs": [
    {
     "name": "stdout",
     "output_type": "stream",
     "text": [
      "5\n"
     ]
    }
   ],
   "source": [
    "min = 200 % 60\n",
    "hours = 300 // 60\n",
    "print(hours)"
   ]
  },
  {
   "cell_type": "code",
   "execution_count": 66,
   "id": "f6b46abf-475d-4de3-90e5-1e51b104ac18",
   "metadata": {},
   "outputs": [
    {
     "name": "stdout",
     "output_type": "stream",
     "text": [
      "this will convert 200 mintues to hours by dividing by 60\n"
     ]
    }
   ],
   "source": [
    "print (\"this will convert 200 mintues to hours by dividing by 60\")\n"
   ]
  },
  {
   "cell_type": "markdown",
   "id": "48824238-fb62-4552-b762-f79aa5377303",
   "metadata": {},
   "source": [
    "__Objectives:__"
   ]
  },
  {
   "cell_type": "code",
   "execution_count": 82,
   "id": "0372b5d3-1325-4595-9e99-28608ad2a95c",
   "metadata": {},
   "outputs": [
    {
     "name": "stdout",
     "output_type": "stream",
     "text": [
      "list popular language for data science\n"
     ]
    }
   ],
   "source": [
    "print(\"list popular language for data science\")"
   ]
  },
  {
   "cell_type": "code",
   "execution_count": 84,
   "id": "04c5d9f2-970c-40f0-bea6-46c69c36c39b",
   "metadata": {},
   "outputs": [
    {
     "name": "stdout",
     "output_type": "stream",
     "text": [
      "\n",
      "- Python\n",
      "- R\n",
      "- Julia\n",
      "- VBA (visual basic for applications)\n",
      "- Scala\n",
      "\n"
     ]
    }
   ],
   "source": [
    "print(\"\"\"\n",
    "- Python\n",
    "- R\n",
    "- Julia\n",
    "- VBA (visual basic for applications)\n",
    "- Scala\n",
    "\"\"\")"
   ]
  },
  {
   "cell_type": "markdown",
   "id": "efde883d-c4e8-436f-8d7c-581d67d4f116",
   "metadata": {},
   "source": [
    "# H2: Author "
   ]
  },
  {
   "cell_type": "code",
   "execution_count": 89,
   "id": "382493d5-ff6e-42b6-b436-400c4560d624",
   "metadata": {},
   "outputs": [
    {
     "name": "stdout",
     "output_type": "stream",
     "text": [
      "Diya\n"
     ]
    }
   ],
   "source": [
    "print(\"Diya\")"
   ]
  }
 ],
 "metadata": {
  "kernelspec": {
   "display_name": "Python 3 (ipykernel)",
   "language": "python",
   "name": "python3"
  },
  "language_info": {
   "codemirror_mode": {
    "name": "ipython",
    "version": 3
   },
   "file_extension": ".py",
   "mimetype": "text/x-python",
   "name": "python",
   "nbconvert_exporter": "python",
   "pygments_lexer": "ipython3",
   "version": "3.12.4"
  }
 },
 "nbformat": 4,
 "nbformat_minor": 5
}
